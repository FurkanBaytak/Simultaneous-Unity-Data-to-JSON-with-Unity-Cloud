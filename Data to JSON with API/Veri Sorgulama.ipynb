{
 "cells": [
  {
   "cell_type": "markdown",
   "metadata": {},
   "source": [
    "# Key, ID ve Header Tanımlamaları"
   ]
  },
  {
   "cell_type": "code",
   "execution_count": 1,
   "metadata": {},
   "outputs": [],
   "source": [
    "import requests\n",
    "# Gerekli olan bilgileri Unity Cloud sistminde bulunan projenin ayarlar kısmından alabilirsiniz.\n",
    "projectID = \"...\"\n",
    "environmentID = \"...\"\n",
    "organizationID = \"...\"\n",
    "apiKEY = \"...\"\n",
    "\n",
    "headers = {\n",
    "    'Authorization': f'Basic {apiKEY}',\n",
    "}"
   ]
  },
  {
   "cell_type": "markdown",
   "metadata": {},
   "source": [
    "# Kullanılacak olan URL'ler"
   ]
  },
  {
   "cell_type": "code",
   "execution_count": 2,
   "metadata": {},
   "outputs": [],
   "source": [
    "# https://services.docs.unity.com/cloud-save-admin/v1/\n",
    "\n",
    "list_players_with_items = f\"https://services.api.unity.com/cloud-save/v1/data/projects/{projectID}/environments/{environmentID}/players\"\n",
    "\n",
    "get_player_items = f\"https://services.api.unity.com/cloud-save/v1/data/projects/{projectID}/environments/{environmentID}/players/{{playerId}}/items\""
   ]
  },
  {
   "cell_type": "markdown",
   "metadata": {},
   "source": [
    "### Kullanıcı ID'lerini ve dosya boyutlarını çekmek için sorgu"
   ]
  },
  {
   "cell_type": "code",
   "execution_count": 3,
   "metadata": {},
   "outputs": [
    {
     "name": "stdout",
     "output_type": "stream",
     "text": [
      "Kullanıcı ID'leri: ['0ee51JRG9HGNePVvS5r5guVklHJ0', '2fa7thDdlqOzACztstMNs2PVYbBW', 'AOOglvIxRd4kulEDXsG01ELQJIhk', 'COoGeUE7nRZvrPPwrcoAs98ig18n', 'EiPZXDf4oAETzUkhR2g5qunWlv7H', 'EjNYPMGrsh1jcXdlWkP7zMQqg4wf', 'MyF4eRTMdGKs0Q6mCxRFLewW9CBV', 'uRO6QyeKpFtDe983gxYkJ6qdNsmE', 'xRSu3OfvKypaqaPuAtu53Yn6Ijhk']\n",
      "Toplam Boyutlar: [8, 15, 15, 12, 4, 8, 12, 15, 4]\n"
     ]
    }
   ],
   "source": [
    "response = requests.get(list_players_with_items, headers=headers)\n",
    "\n",
    "json_data = response.json()\n",
    "\n",
    "user_ids = []\n",
    "access_classes = []\n",
    "num_keys = []\n",
    "total_sizes = []\n",
    "\n",
    "for result in json_data['results']:\n",
    "    user_ids.append(result['id']) \n",
    "    access_classes.append(result['accessClasses']) \n",
    "    for access_class in result['accessClasses'].values():\n",
    "        num_keys.append(access_class['numKeys']) \n",
    "        total_sizes.append(access_class['totalSize']) \n",
    "\n",
    "print(\"Kullanıcı ID'leri:\", user_ids)\n",
    "print(\"Toplam Boyutlar:\", total_sizes)"
   ]
  },
  {
   "cell_type": "markdown",
   "metadata": {},
   "source": [
    "### Bir kullanıcı ID'si için veri sorgulama"
   ]
  },
  {
   "cell_type": "code",
   "execution_count": 4,
   "metadata": {},
   "outputs": [
    {
     "name": "stdout",
     "output_type": "stream",
     "text": [
      "{'results': [{'key': 'green_door', 'value': True, 'writeLock': 'b2b995a08f35ba7a4b2b6e606962373a', 'modified': {'date': '2024-02-26T19:18:26Z'}, 'created': {'date': '2024-02-26T17:12:13Z'}, 'storedSize': 4}, {'key': 'red_door', 'value': True, 'writeLock': 'cf32d11fc5b07ff42c50ffdc839433e0', 'modified': {'date': '2024-02-26T19:18:33Z'}, 'created': {'date': '2024-02-26T17:12:13Z'}, 'storedSize': 4}], 'links': {'next': None}, 'sizeLimit': 5242880, 'totalSize': 8}\n"
     ]
    }
   ],
   "source": [
    "user_id = \"EjNYPMGrsh1jcXdlWkP7zMQqg4wf\" # Örnek bir kullanıcı ID'si\n",
    "\n",
    "get_player_items_url = f\"https://services.api.unity.com/cloud-save/v1/data/projects/{projectID}/environments/{environmentID}/players/{user_id}/items\"\n",
    "\n",
    "headers = {'Authorization': f'Basic {apiKEY}'}\n",
    "\n",
    "response = requests.get(get_player_items_url, headers=headers)\n",
    "items_data = response.json()\n",
    "\n",
    "print(items_data)"
   ]
  },
  {
   "cell_type": "markdown",
   "metadata": {},
   "source": [
    "### Tüm kullanıcıları için ID ve veri eşleştirmesini sağlayan sorgu"
   ]
  },
  {
   "cell_type": "code",
   "execution_count": 5,
   "metadata": {},
   "outputs": [
    {
     "name": "stdout",
     "output_type": "stream",
     "text": [
      "User ID: 0ee51JRG9HGNePVvS5r5guVklHJ0, Items: [{'key': 'blue_door', 'value': True, 'created': '2024-02-26T21:14:40Z', 'modified': '2024-02-26T21:14:42Z'}, {'key': 'red_door', 'value': True, 'created': '2024-02-26T21:14:40Z', 'modified': '2024-02-26T21:14:40Z'}]\n",
      "User ID: 2fa7thDdlqOzACztstMNs2PVYbBW, Items: [{'key': 'blue_door', 'value': False, 'created': '2024-02-26T16:05:52Z', 'modified': '2024-02-26T16:16:48Z'}, {'key': 'green_door', 'value': False, 'created': '2024-02-26T16:05:52Z', 'modified': '2024-02-26T16:16:48Z'}, {'key': 'red_door', 'value': False, 'created': '2024-02-26T16:05:52Z', 'modified': '2024-02-26T16:16:48Z'}]\n",
      "User ID: AOOglvIxRd4kulEDXsG01ELQJIhk, Items: [{'key': 'blue_door', 'value': False, 'created': '2024-02-26T15:46:53Z', 'modified': '2024-02-26T15:46:53Z'}, {'key': 'green_door', 'value': False, 'created': '2024-02-26T15:46:53Z', 'modified': '2024-02-26T15:46:53Z'}, {'key': 'red_door', 'value': False, 'created': '2024-02-26T15:46:53Z', 'modified': '2024-02-26T15:46:53Z'}]\n",
      "User ID: COoGeUE7nRZvrPPwrcoAs98ig18n, Items: [{'key': 'blue_door', 'value': True, 'created': '2024-02-26T16:19:16Z', 'modified': '2024-02-26T16:56:13Z'}, {'key': 'green_door', 'value': True, 'created': '2024-02-26T16:19:16Z', 'modified': '2024-02-26T16:56:12Z'}, {'key': 'red_door', 'value': True, 'created': '2024-02-26T16:19:16Z', 'modified': '2024-02-26T16:56:10Z'}]\n",
      "User ID: EiPZXDf4oAETzUkhR2g5qunWlv7H, Items: [{'key': 'green_door', 'value': True, 'created': '2024-02-29T08:05:25Z', 'modified': '2024-02-29T08:05:25Z'}]\n",
      "User ID: EjNYPMGrsh1jcXdlWkP7zMQqg4wf, Items: [{'key': 'green_door', 'value': True, 'created': '2024-02-26T17:12:13Z', 'modified': '2024-02-26T19:18:26Z'}, {'key': 'red_door', 'value': True, 'created': '2024-02-26T17:12:13Z', 'modified': '2024-02-26T19:18:33Z'}]\n",
      "User ID: MyF4eRTMdGKs0Q6mCxRFLewW9CBV, Items: [{'key': 'blue_door', 'value': True, 'created': '2024-02-27T19:41:48Z', 'modified': '2024-02-27T19:40:32Z'}, {'key': 'green_door', 'value': True, 'created': '2024-02-27T19:41:48Z', 'modified': '2024-02-27T19:41:23Z'}, {'key': 'red_door', 'value': True, 'created': '2024-02-27T19:41:48Z', 'modified': '2024-02-27T19:41:48Z'}]\n",
      "User ID: uRO6QyeKpFtDe983gxYkJ6qdNsmE, Items: [{'key': 'blue_door', 'value': False, 'created': '2024-02-26T15:58:18Z', 'modified': '2024-02-26T15:58:44Z'}, {'key': 'green_door', 'value': False, 'created': '2024-02-26T15:58:18Z', 'modified': '2024-02-26T15:58:44Z'}, {'key': 'red_door', 'value': False, 'created': '2024-02-26T15:58:18Z', 'modified': '2024-02-26T15:58:44Z'}]\n",
      "User ID: xRSu3OfvKypaqaPuAtu53Yn6Ijhk, Items: [{'key': 'red_door', 'value': True, 'created': '2024-02-26T21:14:52Z', 'modified': '2024-02-26T21:14:52Z'}]\n"
     ]
    }
   ],
   "source": [
    "response = requests.get(list_players_with_items, headers=headers)\n",
    "players_data = response.json()\n",
    "\n",
    "user_ids = [player['id'] for player in players_data['results']]\n",
    "\n",
    "player_items = {}\n",
    "for user_id in user_ids:\n",
    "    get_player_items_url = f\"https://services.api.unity.com/cloud-save/v1/data/projects/{projectID}/environments/{environmentID}/players/{user_id}/items\"\n",
    "    response = requests.get(get_player_items_url, headers=headers)\n",
    "    items_data = response.json()\n",
    "\n",
    "    items_list = [{\n",
    "        'key': item['key'],\n",
    "        'value': item['value'],\n",
    "        'created': item['created']['date'],\n",
    "        'modified': item['modified']['date']\n",
    "    } for item in items_data['results']]\n",
    "\n",
    "    player_items[user_id] = items_list\n",
    "\n",
    "for user_id, items in player_items.items():\n",
    "    print(f\"User ID: {user_id}, Items: {items}\")"
   ]
  }
 ],
 "metadata": {
  "kernelspec": {
   "display_name": "Python 3",
   "language": "python",
   "name": "python3"
  },
  "language_info": {
   "codemirror_mode": {
    "name": "ipython",
    "version": 3
   },
   "file_extension": ".py",
   "mimetype": "text/x-python",
   "name": "python",
   "nbconvert_exporter": "python",
   "pygments_lexer": "ipython3",
   "version": "3.11.8"
  }
 },
 "nbformat": 4,
 "nbformat_minor": 2
}
